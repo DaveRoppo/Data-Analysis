{
 "cells": [
  {
   "cell_type": "code",
   "execution_count": 68,
   "id": "bbadb302",
   "metadata": {},
   "outputs": [],
   "source": [
    "# Import Required Libraries \n",
    "\n",
    "from bs4 import BeautifulSoup\n",
    "import requests\n",
    "import time\n",
    "import datetime\n",
    "import pandas as pd\n",
    "\n",
    "# For Sending Emails\n",
    "import smtplib"
   ]
  },
  {
   "cell_type": "code",
   "execution_count": 69,
   "id": "991e9712",
   "metadata": {},
   "outputs": [
    {
     "name": "stdout",
     "output_type": "stream",
     "text": [
      "\n",
      "               160\n",
      "              \n",
      "\n",
      "           Eth: $3,327.45\n",
      "          \n"
     ]
    }
   ],
   "source": [
    "# Connect to etherscan.io\n",
    "\n",
    "URL = 'https://etherscan.io/gastracker'\n",
    "\n",
    "headers = {\"User-Agent\": \"Mozilla/5.0 (Windows NT 10.0; Win64; x64) AppleWebKit/537.36 (KHTML, like Gecko) Chrome/97.0.4692.71 Safari/537.36\", \"Accept-Encoding\":\"gzip, deflate\", \"Accept\":\"text/html,application/xhtml+xml,application/xml;q=0.9,*/*;q=0.8\", \"DNT\":\"1\",\"Connection\":\"close\", \"Upgrade-Insecure-Requests\":\"1\"}\n",
    "\n",
    "page = requests.get(URL, headers=headers)\n",
    "\n",
    "# Parse html with BeautifulSoup \n",
    "\n",
    "soup1 = BeautifulSoup(page.content, \"html.parser\")\n",
    "\n",
    "# Prettify parsed html \n",
    "\n",
    "soup2 = BeautifulSoup(soup1.prettify(), 'html.parser')\n",
    "\n",
    "# Scrape current gas fee and ETH/USD price\n",
    "\n",
    "gas = soup2.find(id=\"spanAvgPrice\").get_text()\n",
    "\n",
    "eth = soup2.find(attrs={'class':'text-dark'}).get_text()\n",
    "\n",
    "\n",
    "print(gas)\n",
    "print(eth)"
   ]
  },
  {
   "cell_type": "code",
   "execution_count": 70,
   "id": "43686ac8",
   "metadata": {},
   "outputs": [
    {
     "name": "stdout",
     "output_type": "stream",
     "text": [
      "160\n",
      "3327.45\n"
     ]
    }
   ],
   "source": [
    "# Clean up white spaces, \"Eth:\", \",\",and '$'\n",
    "\n",
    "gas = gas.strip()\n",
    "eth = eth.strip()[6:]\n",
    "eth = eth.replace(',', '')\n",
    "\n",
    "\n",
    "print(gas)\n",
    "print(eth)"
   ]
  },
  {
   "cell_type": "code",
   "execution_count": 71,
   "id": "30ff4b32",
   "metadata": {},
   "outputs": [
    {
     "name": "stdout",
     "output_type": "stream",
     "text": [
      "\n",
      "             21\n",
      "            \n",
      "\n",
      "             Extreme Fear\n",
      "            \n"
     ]
    }
   ],
   "source": [
    "# Connect to etherscan.io\n",
    "\n",
    "URL2 = 'https://alternative.me/crypto/fear-and-greed-index/'\n",
    "\n",
    "headers2 = {\"User-Agent\": \"Mozilla/5.0 (Windows NT 10.0; Win64; x64) AppleWebKit/537.36 (KHTML, like Gecko) Chrome/97.0.4692.71 Safari/537.36\", \"Accept-Encoding\":\"gzip, deflate\", \"Accept\":\"text/html,application/xhtml+xml,application/xml;q=0.9,*/*;q=0.8\", \"DNT\":\"1\",\"Connection\":\"close\", \"Upgrade-Insecure-Requests\":\"1\"}\n",
    "\n",
    "page = requests.get(URL2, headers=headers2)\n",
    "\n",
    "# Parse html with BeautifulSoup \n",
    "\n",
    "soup3 = BeautifulSoup(page.content, \"html.parser\")\n",
    "\n",
    "# Prettify parsed html \n",
    "\n",
    "soup4 = BeautifulSoup(soup3.prettify(), 'html.parser')\n",
    "\n",
    "# Scrape current gas fee and ETH/USD price\n",
    "\n",
    "fng = soup4.find(attrs={'class':'fng-circle'}).get_text()\n",
    "\n",
    "status = soup4.find(attrs={'class':'status'}).get_text()\n",
    "\n",
    "\n",
    "print(fng)\n",
    "print(status)"
   ]
  },
  {
   "cell_type": "code",
   "execution_count": 72,
   "id": "14cc3adf",
   "metadata": {},
   "outputs": [
    {
     "name": "stdout",
     "output_type": "stream",
     "text": [
      "21\n",
      "Extreme Fear\n"
     ]
    }
   ],
   "source": [
    "# Clean up \n",
    "\n",
    "fng = fng.strip()\n",
    "status = status.strip()\n",
    "\n",
    "print(fng)\n",
    "print(status)\n",
    "\n"
   ]
  },
  {
   "cell_type": "code",
   "execution_count": 73,
   "id": "5356e5eb",
   "metadata": {},
   "outputs": [
    {
     "name": "stdout",
     "output_type": "stream",
     "text": [
      "2022-01-14 16:09:23.157959\n"
     ]
    }
   ],
   "source": [
    "import datetime\n",
    "\n",
    "now = datetime.datetime.now()\n",
    "\n",
    "print(now)\n"
   ]
  },
  {
   "cell_type": "code",
   "execution_count": 75,
   "id": "07794c52",
   "metadata": {},
   "outputs": [],
   "source": [
    "# Create .csv with data\n",
    "\n",
    "import csv\n",
    "\n",
    "header = [\"Date\", \"Price\", \"Gas\", \"FnG\", \"Status\"]\n",
    "data = [now, eth, gas, fng, status]\n",
    "\n",
    "# Commenting this out to avoid creating a brand new .csv and losing data\n",
    "\n",
    "with open('ETH_Tracker.csv', 'w', newline='', encoding='UTF8') as f:\n",
    "    writer = csv.writer(f)\n",
    "    writer.writerow(header)\n",
    "    writer.writerow(data)\n",
    "    "
   ]
  },
  {
   "cell_type": "code",
   "execution_count": 76,
   "id": "ba65191b",
   "metadata": {},
   "outputs": [
    {
     "name": "stdout",
     "output_type": "stream",
     "text": [
      "                         Date    Price  Gas  FnG        Status\n",
      "0  2022-01-14 16:09:23.157959  3327.45  160   21  Extreme Fear\n"
     ]
    }
   ],
   "source": [
    "# To check the data without opening up the csv each time\n",
    "\n",
    "df = pd.read_csv(r\"C:\\Users\\Dave Roppo\\ETH_Tracker.csv\")\n",
    "\n",
    "print(df)\n"
   ]
  },
  {
   "cell_type": "code",
   "execution_count": 77,
   "id": "e36ca367",
   "metadata": {},
   "outputs": [],
   "source": [
    "# Append data to csv\n",
    "\n",
    "with open('ETH_Tracker.csv', 'a+', newline='', encoding='UTF8') as f:\n",
    "    writer = csv.writer(f)\n",
    "    writer.writerow(data)\n",
    "    "
   ]
  },
  {
   "cell_type": "code",
   "execution_count": 78,
   "id": "c99c0585",
   "metadata": {},
   "outputs": [],
   "source": [
    "# Define a function\n",
    "\n",
    "def eth_tracker():\n",
    "    URL = 'https://etherscan.io/gastracker'\n",
    "\n",
    "    headers = {\"User-Agent\": \"Mozilla/5.0 (Windows NT 10.0; Win64; x64) AppleWebKit/537.36 (KHTML, like Gecko) Chrome/97.0.4692.71 Safari/537.36\", \"Accept-Encoding\":\"gzip, deflate\", \"Accept\":\"text/html,application/xhtml+xml,application/xml;q=0.9,*/*;q=0.8\", \"DNT\":\"1\",\"Connection\":\"close\", \"Upgrade-Insecure-Requests\":\"1\"}\n",
    "\n",
    "    page = requests.get(URL, headers=headers)\n",
    "\n",
    "    # Parse html with BeautifulSoup \n",
    "\n",
    "    soup1 = BeautifulSoup(page.content, \"html.parser\")\n",
    "\n",
    "    # Prettify parsed html \n",
    "\n",
    "    soup2 = BeautifulSoup(soup1.prettify(), 'html.parser')\n",
    "\n",
    "    # Scrape current gas fee and ETH/USD price\n",
    "\n",
    "    gas = soup2.find(id=\"spanAvgPrice\").get_text()\n",
    "\n",
    "    eth = soup2.find(attrs={'class':'text-dark'}).get_text()\n",
    "\n",
    "\n",
    "    gas = gas.strip()\n",
    "    eth = eth.strip()[6:]\n",
    "    eth = eth.replace(',', '')\n",
    "\n",
    "\n",
    "    URL2 = 'https://alternative.me/crypto/fear-and-greed-index/'\n",
    "\n",
    "    headers2 = {\"User-Agent\": \"Mozilla/5.0 (Windows NT 10.0; Win64; x64) AppleWebKit/537.36 (KHTML, like Gecko) Chrome/97.0.4692.71 Safari/537.36\", \"Accept-Encoding\":\"gzip, deflate\", \"Accept\":\"text/html,application/xhtml+xml,application/xml;q=0.9,*/*;q=0.8\", \"DNT\":\"1\",\"Connection\":\"close\", \"Upgrade-Insecure-Requests\":\"1\"}\n",
    "\n",
    "    page = requests.get(URL2, headers=headers2)\n",
    "\n",
    "    # Parse html with BeautifulSoup \n",
    "\n",
    "    soup3 = BeautifulSoup(page.content, \"html.parser\")\n",
    "\n",
    "    # Prettify parsed html \n",
    "\n",
    "    soup4 = BeautifulSoup(soup3.prettify(), 'html.parser')\n",
    "\n",
    "    # Scrape current gas fee and ETH/USD price\n",
    "\n",
    "    fng = soup4.find(attrs={'class':'fng-circle'}).get_text()\n",
    "\n",
    "    status = soup4.find(attrs={'class':'status'}).get_text()\n",
    "\n",
    "\n",
    "\n",
    "    fng = fng.strip()\n",
    "    status = status.strip()\n",
    "\n",
    "\n",
    "    import datetime\n",
    "\n",
    "    now = datetime.datetime.now()\n",
    "\n",
    "\n",
    "    import csv\n",
    "\n",
    "    header = [\"Date\", \"Price\", \"Gas\", \"FnG\", \"Status\"]\n",
    "    data = [now, eth, gas, fng, status]\n",
    "\n",
    "    with open('ETH_Tracker.csv', 'a+', newline='', encoding='UTF8') as f:\n",
    "        writer = csv.writer(f)\n",
    "        writer.writerow(data)\n"
   ]
  },
  {
   "cell_type": "code",
   "execution_count": null,
   "id": "9c903348",
   "metadata": {},
   "outputs": [],
   "source": [
    "# Create while loop to run every 5 minutes \n",
    "\n",
    "while(True):\n",
    "    eth_tracker()\n",
    "    time.sleep(300)"
   ]
  },
  {
   "cell_type": "code",
   "execution_count": null,
   "id": "1c30bc5f",
   "metadata": {},
   "outputs": [],
   "source": [
    "# Create function to email for price, gas, and FnG alerts\n",
    "\n",
    "\n",
    "#def send_mail():\n",
    "    #server = smtplib.SMTP_SSL('smtp.gmail.com',465)\n",
    "    #server.ehlo()\n",
    "    #server.starttls()\n",
    "    #server.ehlo()\n",
    "    #server.login('email@gmail.com','xxxxxxxxxxxxxx')\n",
    "    \n",
    "    #subject = \"*Type body here*\"\n",
    "    #body = \"*Type body here*\"\n",
    "   \n",
    "    #msg = f\"Subject: {subject}\\n\\n{body}\"\n",
    "    \n",
    "    #server.sendmail(\n",
    "        #'email@gmail.com',\n",
    "       # msg\n",
    "     \n",
    "   # )"
   ]
  }
 ],
 "metadata": {
  "kernelspec": {
   "display_name": "Python 3 (ipykernel)",
   "language": "python",
   "name": "python3"
  },
  "language_info": {
   "codemirror_mode": {
    "name": "ipython",
    "version": 3
   },
   "file_extension": ".py",
   "mimetype": "text/x-python",
   "name": "python",
   "nbconvert_exporter": "python",
   "pygments_lexer": "ipython3",
   "version": "3.9.7"
  }
 },
 "nbformat": 4,
 "nbformat_minor": 5
}
